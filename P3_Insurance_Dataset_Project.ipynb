{
 "cells": [
  {
   "cell_type": "markdown",
   "id": "08b56a2e",
   "metadata": {},
   "source": [
    "# Problem Statement:"
   ]
  },
  {
   "cell_type": "markdown",
   "id": "116eb3c3",
   "metadata": {},
   "source": [
    "#### Predicting insurance charges using the values like age, sex, bmi, children, smoker, region, charges etc. given in the dataset"
   ]
  },
  {
   "cell_type": "markdown",
   "id": "431422bf",
   "metadata": {},
   "source": [
    "Importing the necessary Libraries"
   ]
  },
  {
   "cell_type": "code",
   "execution_count": 1,
   "id": "c3f8d339",
   "metadata": {},
   "outputs": [],
   "source": [
    "import numpy as np\n",
    "import pandas as pd\n",
    "import matplotlib.pyplot as plt\n",
    "import seaborn as sns\n",
    "from sklearn.preprocessing import OneHotEncoder\n",
    "from sklearn.model_selection import train_test_split as tts\n",
    "from sklearn.linear_model import LinearRegression\n",
    "from sklearn.metrics import r2_score,mean_squared_error,mean_absolute_error"
   ]
  },
  {
   "cell_type": "markdown",
   "id": "f8aaa2cc",
   "metadata": {},
   "source": [
    "## Part - 1 Data Exploration and Pre-Processing"
   ]
  },
  {
   "cell_type": "markdown",
   "id": "cc7d049b",
   "metadata": {},
   "source": [
    "### 1 - Loading the given Dataset"
   ]
  },
  {
   "cell_type": "code",
   "execution_count": 2,
   "id": "797c2609",
   "metadata": {
    "scrolled": true
   },
   "outputs": [
    {
     "data": {
      "text/html": [
       "<div>\n",
       "<style scoped>\n",
       "    .dataframe tbody tr th:only-of-type {\n",
       "        vertical-align: middle;\n",
       "    }\n",
       "\n",
       "    .dataframe tbody tr th {\n",
       "        vertical-align: top;\n",
       "    }\n",
       "\n",
       "    .dataframe thead th {\n",
       "        text-align: right;\n",
       "    }\n",
       "</style>\n",
       "<table border=\"1\" class=\"dataframe\">\n",
       "  <thead>\n",
       "    <tr style=\"text-align: right;\">\n",
       "      <th></th>\n",
       "      <th>age</th>\n",
       "      <th>sex</th>\n",
       "      <th>bmi</th>\n",
       "      <th>children</th>\n",
       "      <th>smoker</th>\n",
       "      <th>region</th>\n",
       "      <th>charges</th>\n",
       "    </tr>\n",
       "  </thead>\n",
       "  <tbody>\n",
       "    <tr>\n",
       "      <th>0</th>\n",
       "      <td>19</td>\n",
       "      <td>female</td>\n",
       "      <td>27.900</td>\n",
       "      <td>0</td>\n",
       "      <td>yes</td>\n",
       "      <td>southwest</td>\n",
       "      <td>16884.92400</td>\n",
       "    </tr>\n",
       "    <tr>\n",
       "      <th>1</th>\n",
       "      <td>18</td>\n",
       "      <td>male</td>\n",
       "      <td>33.770</td>\n",
       "      <td>1</td>\n",
       "      <td>no</td>\n",
       "      <td>southeast</td>\n",
       "      <td>1725.55230</td>\n",
       "    </tr>\n",
       "    <tr>\n",
       "      <th>2</th>\n",
       "      <td>28</td>\n",
       "      <td>male</td>\n",
       "      <td>33.000</td>\n",
       "      <td>3</td>\n",
       "      <td>no</td>\n",
       "      <td>southeast</td>\n",
       "      <td>4449.46200</td>\n",
       "    </tr>\n",
       "    <tr>\n",
       "      <th>3</th>\n",
       "      <td>33</td>\n",
       "      <td>male</td>\n",
       "      <td>22.705</td>\n",
       "      <td>0</td>\n",
       "      <td>no</td>\n",
       "      <td>northwest</td>\n",
       "      <td>21984.47061</td>\n",
       "    </tr>\n",
       "    <tr>\n",
       "      <th>4</th>\n",
       "      <td>32</td>\n",
       "      <td>male</td>\n",
       "      <td>28.880</td>\n",
       "      <td>0</td>\n",
       "      <td>no</td>\n",
       "      <td>northwest</td>\n",
       "      <td>3866.85520</td>\n",
       "    </tr>\n",
       "  </tbody>\n",
       "</table>\n",
       "</div>"
      ],
      "text/plain": [
       "   age     sex     bmi  children smoker     region      charges\n",
       "0   19  female  27.900         0    yes  southwest  16884.92400\n",
       "1   18    male  33.770         1     no  southeast   1725.55230\n",
       "2   28    male  33.000         3     no  southeast   4449.46200\n",
       "3   33    male  22.705         0     no  northwest  21984.47061\n",
       "4   32    male  28.880         0     no  northwest   3866.85520"
      ]
     },
     "execution_count": 2,
     "metadata": {},
     "output_type": "execute_result"
    }
   ],
   "source": [
    "df = pd.read_csv(r\"C:\\Users\\Vyas\\1_Assignment\\ML FT Projects\\Linear Regression\\P3_Insurance Dataset\\Python_Linear_Regres.csv\")\n",
    "df.head()"
   ]
  },
  {
   "cell_type": "code",
   "execution_count": 3,
   "id": "7bc4fe4c",
   "metadata": {},
   "outputs": [
    {
     "data": {
      "text/plain": [
       "(1338, 7)"
      ]
     },
     "execution_count": 3,
     "metadata": {},
     "output_type": "execute_result"
    }
   ],
   "source": [
    "df.shape"
   ]
  },
  {
   "cell_type": "code",
   "execution_count": 4,
   "id": "febcd8bc",
   "metadata": {},
   "outputs": [
    {
     "data": {
      "text/html": [
       "<div>\n",
       "<style scoped>\n",
       "    .dataframe tbody tr th:only-of-type {\n",
       "        vertical-align: middle;\n",
       "    }\n",
       "\n",
       "    .dataframe tbody tr th {\n",
       "        vertical-align: top;\n",
       "    }\n",
       "\n",
       "    .dataframe thead th {\n",
       "        text-align: right;\n",
       "    }\n",
       "</style>\n",
       "<table border=\"1\" class=\"dataframe\">\n",
       "  <thead>\n",
       "    <tr style=\"text-align: right;\">\n",
       "      <th></th>\n",
       "      <th>age</th>\n",
       "      <th>bmi</th>\n",
       "      <th>children</th>\n",
       "      <th>charges</th>\n",
       "    </tr>\n",
       "  </thead>\n",
       "  <tbody>\n",
       "    <tr>\n",
       "      <th>count</th>\n",
       "      <td>1338.000000</td>\n",
       "      <td>1338.000000</td>\n",
       "      <td>1338.000000</td>\n",
       "      <td>1338.000000</td>\n",
       "    </tr>\n",
       "    <tr>\n",
       "      <th>mean</th>\n",
       "      <td>39.207025</td>\n",
       "      <td>30.663397</td>\n",
       "      <td>1.094918</td>\n",
       "      <td>13270.422265</td>\n",
       "    </tr>\n",
       "    <tr>\n",
       "      <th>std</th>\n",
       "      <td>14.049960</td>\n",
       "      <td>6.098187</td>\n",
       "      <td>1.205493</td>\n",
       "      <td>12110.011237</td>\n",
       "    </tr>\n",
       "    <tr>\n",
       "      <th>min</th>\n",
       "      <td>18.000000</td>\n",
       "      <td>15.960000</td>\n",
       "      <td>0.000000</td>\n",
       "      <td>1121.873900</td>\n",
       "    </tr>\n",
       "    <tr>\n",
       "      <th>25%</th>\n",
       "      <td>27.000000</td>\n",
       "      <td>26.296250</td>\n",
       "      <td>0.000000</td>\n",
       "      <td>4740.287150</td>\n",
       "    </tr>\n",
       "    <tr>\n",
       "      <th>50%</th>\n",
       "      <td>39.000000</td>\n",
       "      <td>30.400000</td>\n",
       "      <td>1.000000</td>\n",
       "      <td>9382.033000</td>\n",
       "    </tr>\n",
       "    <tr>\n",
       "      <th>75%</th>\n",
       "      <td>51.000000</td>\n",
       "      <td>34.693750</td>\n",
       "      <td>2.000000</td>\n",
       "      <td>16639.912515</td>\n",
       "    </tr>\n",
       "    <tr>\n",
       "      <th>max</th>\n",
       "      <td>64.000000</td>\n",
       "      <td>53.130000</td>\n",
       "      <td>5.000000</td>\n",
       "      <td>63770.428010</td>\n",
       "    </tr>\n",
       "  </tbody>\n",
       "</table>\n",
       "</div>"
      ],
      "text/plain": [
       "               age          bmi     children       charges\n",
       "count  1338.000000  1338.000000  1338.000000   1338.000000\n",
       "mean     39.207025    30.663397     1.094918  13270.422265\n",
       "std      14.049960     6.098187     1.205493  12110.011237\n",
       "min      18.000000    15.960000     0.000000   1121.873900\n",
       "25%      27.000000    26.296250     0.000000   4740.287150\n",
       "50%      39.000000    30.400000     1.000000   9382.033000\n",
       "75%      51.000000    34.693750     2.000000  16639.912515\n",
       "max      64.000000    53.130000     5.000000  63770.428010"
      ]
     },
     "execution_count": 4,
     "metadata": {},
     "output_type": "execute_result"
    }
   ],
   "source": [
    "df.describe()"
   ]
  },
  {
   "cell_type": "code",
   "execution_count": 5,
   "id": "1bdcab40",
   "metadata": {},
   "outputs": [
    {
     "data": {
      "text/plain": [
       "age           int64\n",
       "sex          object\n",
       "bmi         float64\n",
       "children      int64\n",
       "smoker       object\n",
       "region       object\n",
       "charges     float64\n",
       "dtype: object"
      ]
     },
     "execution_count": 5,
     "metadata": {},
     "output_type": "execute_result"
    }
   ],
   "source": [
    "df.dtypes"
   ]
  },
  {
   "cell_type": "code",
   "execution_count": 6,
   "id": "d3dd9d0e",
   "metadata": {},
   "outputs": [
    {
     "data": {
      "text/html": [
       "<div>\n",
       "<style scoped>\n",
       "    .dataframe tbody tr th:only-of-type {\n",
       "        vertical-align: middle;\n",
       "    }\n",
       "\n",
       "    .dataframe tbody tr th {\n",
       "        vertical-align: top;\n",
       "    }\n",
       "\n",
       "    .dataframe thead th {\n",
       "        text-align: right;\n",
       "    }\n",
       "</style>\n",
       "<table border=\"1\" class=\"dataframe\">\n",
       "  <thead>\n",
       "    <tr style=\"text-align: right;\">\n",
       "      <th></th>\n",
       "      <th>age</th>\n",
       "      <th>bmi</th>\n",
       "      <th>children</th>\n",
       "      <th>charges</th>\n",
       "    </tr>\n",
       "  </thead>\n",
       "  <tbody>\n",
       "    <tr>\n",
       "      <th>age</th>\n",
       "      <td>1.000000</td>\n",
       "      <td>0.109272</td>\n",
       "      <td>0.042469</td>\n",
       "      <td>0.299008</td>\n",
       "    </tr>\n",
       "    <tr>\n",
       "      <th>bmi</th>\n",
       "      <td>0.109272</td>\n",
       "      <td>1.000000</td>\n",
       "      <td>0.012759</td>\n",
       "      <td>0.198341</td>\n",
       "    </tr>\n",
       "    <tr>\n",
       "      <th>children</th>\n",
       "      <td>0.042469</td>\n",
       "      <td>0.012759</td>\n",
       "      <td>1.000000</td>\n",
       "      <td>0.067998</td>\n",
       "    </tr>\n",
       "    <tr>\n",
       "      <th>charges</th>\n",
       "      <td>0.299008</td>\n",
       "      <td>0.198341</td>\n",
       "      <td>0.067998</td>\n",
       "      <td>1.000000</td>\n",
       "    </tr>\n",
       "  </tbody>\n",
       "</table>\n",
       "</div>"
      ],
      "text/plain": [
       "               age       bmi  children   charges\n",
       "age       1.000000  0.109272  0.042469  0.299008\n",
       "bmi       0.109272  1.000000  0.012759  0.198341\n",
       "children  0.042469  0.012759  1.000000  0.067998\n",
       "charges   0.299008  0.198341  0.067998  1.000000"
      ]
     },
     "execution_count": 6,
     "metadata": {},
     "output_type": "execute_result"
    }
   ],
   "source": [
    "df.corr()"
   ]
  },
  {
   "cell_type": "markdown",
   "id": "266ffa41",
   "metadata": {},
   "source": [
    "### 2 - Finding the Null values"
   ]
  },
  {
   "cell_type": "code",
   "execution_count": 7,
   "id": "41f879ed",
   "metadata": {},
   "outputs": [
    {
     "data": {
      "text/plain": [
       "age         0\n",
       "sex         0\n",
       "bmi         0\n",
       "children    0\n",
       "smoker      0\n",
       "region      0\n",
       "charges     0\n",
       "dtype: int64"
      ]
     },
     "execution_count": 7,
     "metadata": {},
     "output_type": "execute_result"
    }
   ],
   "source": [
    "df.isnull().sum()"
   ]
  },
  {
   "cell_type": "markdown",
   "id": "a46f00c4",
   "metadata": {},
   "source": [
    "### 3 - Displaying through scatter plot between age and children"
   ]
  },
  {
   "cell_type": "code",
   "execution_count": 8,
   "id": "8e590965",
   "metadata": {},
   "outputs": [
    {
     "data": {
      "image/png": "[encoded data removed]",
      "text/plain": [
       "<Figure size 432x288 with 1 Axes>"
      ]
     },
     "metadata": {
      "needs_background": "light"
     },
     "output_type": "display_data"
    }
   ],
   "source": [
    "sns.scatterplot(x='age',y='children',data=df);"
   ]
  },
  {
   "cell_type": "markdown",
   "id": "90963efa",
   "metadata": {},
   "source": [
    "### 4 - Displaying bar plot between bmi and children"
   ]
  },
  {
   "cell_type": "code",
   "execution_count": 9,
   "id": "f47fd9fa",
   "metadata": {},
   "outputs": [
    {
     "data": {
      "image/png": "[encoded data removed]",
      "text/plain": [
       "<Figure size 720x360 with 1 Axes>"
      ]
     },
     "metadata": {
      "needs_background": "light"
     },
     "output_type": "display_data"
    }
   ],
   "source": [
    "bmi = df.bmi\n",
    "child = df.children\n",
    "plt.figure(figsize=(10,5))\n",
    "plt.bar(child,bmi,color='m')\n",
    "plt.xlabel('Children')\n",
    "plt.ylabel('BMI')\n",
    "plt.show()"
   ]
  },
  {
   "cell_type": "markdown",
   "id": "6021fe96",
   "metadata": {},
   "source": [
    "### 6 - Perform encoding to convert character data into numerical data"
   ]
  },
  {
   "cell_type": "code",
   "execution_count": 10,
   "id": "f0a90aae",
   "metadata": {},
   "outputs": [],
   "source": [
    "df = pd.get_dummies(df,drop_first=True)"
   ]
  },
  {
   "cell_type": "code",
   "execution_count": 11,
   "id": "6956246c",
   "metadata": {},
   "outputs": [
    {
     "data": {
      "text/html": [
       "<div>\n",
       "<style scoped>\n",
       "    .dataframe tbody tr th:only-of-type {\n",
       "        vertical-align: middle;\n",
       "    }\n",
       "\n",
       "    .dataframe tbody tr th {\n",
       "        vertical-align: top;\n",
       "    }\n",
       "\n",
       "    .dataframe thead th {\n",
       "        text-align: right;\n",
       "    }\n",
       "</style>\n",
       "<table border=\"1\" class=\"dataframe\">\n",
       "  <thead>\n",
       "    <tr style=\"text-align: right;\">\n",
       "      <th></th>\n",
       "      <th>age</th>\n",
       "      <th>bmi</th>\n",
       "      <th>children</th>\n",
       "      <th>charges</th>\n",
       "      <th>sex_male</th>\n",
       "      <th>smoker_yes</th>\n",
       "      <th>region_northwest</th>\n",
       "      <th>region_southeast</th>\n",
       "      <th>region_southwest</th>\n",
       "    </tr>\n",
       "  </thead>\n",
       "  <tbody>\n",
       "    <tr>\n",
       "      <th>0</th>\n",
       "      <td>19</td>\n",
       "      <td>27.900</td>\n",
       "      <td>0</td>\n",
       "      <td>16884.92400</td>\n",
       "      <td>0</td>\n",
       "      <td>1</td>\n",
       "      <td>0</td>\n",
       "      <td>0</td>\n",
       "      <td>1</td>\n",
       "    </tr>\n",
       "    <tr>\n",
       "      <th>1</th>\n",
       "      <td>18</td>\n",
       "      <td>33.770</td>\n",
       "      <td>1</td>\n",
       "      <td>1725.55230</td>\n",
       "      <td>1</td>\n",
       "      <td>0</td>\n",
       "      <td>0</td>\n",
       "      <td>1</td>\n",
       "      <td>0</td>\n",
       "    </tr>\n",
       "    <tr>\n",
       "      <th>2</th>\n",
       "      <td>28</td>\n",
       "      <td>33.000</td>\n",
       "      <td>3</td>\n",
       "      <td>4449.46200</td>\n",
       "      <td>1</td>\n",
       "      <td>0</td>\n",
       "      <td>0</td>\n",
       "      <td>1</td>\n",
       "      <td>0</td>\n",
       "    </tr>\n",
       "    <tr>\n",
       "      <th>3</th>\n",
       "      <td>33</td>\n",
       "      <td>22.705</td>\n",
       "      <td>0</td>\n",
       "      <td>21984.47061</td>\n",
       "      <td>1</td>\n",
       "      <td>0</td>\n",
       "      <td>1</td>\n",
       "      <td>0</td>\n",
       "      <td>0</td>\n",
       "    </tr>\n",
       "    <tr>\n",
       "      <th>4</th>\n",
       "      <td>32</td>\n",
       "      <td>28.880</td>\n",
       "      <td>0</td>\n",
       "      <td>3866.85520</td>\n",
       "      <td>1</td>\n",
       "      <td>0</td>\n",
       "      <td>1</td>\n",
       "      <td>0</td>\n",
       "      <td>0</td>\n",
       "    </tr>\n",
       "  </tbody>\n",
       "</table>\n",
       "</div>"
      ],
      "text/plain": [
       "   age     bmi  children      charges  sex_male  smoker_yes  region_northwest  \\\n",
       "0   19  27.900         0  16884.92400         0           1                 0   \n",
       "1   18  33.770         1   1725.55230         1           0                 0   \n",
       "2   28  33.000         3   4449.46200         1           0                 0   \n",
       "3   33  22.705         0  21984.47061         1           0                 1   \n",
       "4   32  28.880         0   3866.85520         1           0                 1   \n",
       "\n",
       "   region_southeast  region_southwest  \n",
       "0                 0                 1  \n",
       "1                 1                 0  \n",
       "2                 1                 0  \n",
       "3                 0                 0  \n",
       "4                 0                 0  "
      ]
     },
     "execution_count": 11,
     "metadata": {},
     "output_type": "execute_result"
    }
   ],
   "source": [
    "df.head()"
   ]
  },
  {
   "cell_type": "markdown",
   "id": "aca0e64a",
   "metadata": {},
   "source": [
    "### 7 - Perform scaling"
   ]
  },
  {
   "cell_type": "code",
   "execution_count": 12,
   "id": "670b6afc",
   "metadata": {},
   "outputs": [
    {
     "data": {
      "text/html": [
       "<div>\n",
       "<style scoped>\n",
       "    .dataframe tbody tr th:only-of-type {\n",
       "        vertical-align: middle;\n",
       "    }\n",
       "\n",
       "    .dataframe tbody tr th {\n",
       "        vertical-align: top;\n",
       "    }\n",
       "\n",
       "    .dataframe thead th {\n",
       "        text-align: right;\n",
       "    }\n",
       "</style>\n",
       "<table border=\"1\" class=\"dataframe\">\n",
       "  <thead>\n",
       "    <tr style=\"text-align: right;\">\n",
       "      <th></th>\n",
       "      <th>age</th>\n",
       "      <th>bmi</th>\n",
       "      <th>children</th>\n",
       "      <th>charges</th>\n",
       "      <th>sex_male</th>\n",
       "      <th>smoker_yes</th>\n",
       "      <th>region_northwest</th>\n",
       "      <th>region_southeast</th>\n",
       "      <th>region_southwest</th>\n",
       "    </tr>\n",
       "  </thead>\n",
       "  <tbody>\n",
       "    <tr>\n",
       "      <th>0</th>\n",
       "      <td>-1.438764</td>\n",
       "      <td>-0.453320</td>\n",
       "      <td>-0.908614</td>\n",
       "      <td>0.298584</td>\n",
       "      <td>-1.010519</td>\n",
       "      <td>1.970587</td>\n",
       "      <td>-0.566418</td>\n",
       "      <td>-0.611324</td>\n",
       "      <td>1.765481</td>\n",
       "    </tr>\n",
       "    <tr>\n",
       "      <th>1</th>\n",
       "      <td>-1.509965</td>\n",
       "      <td>0.509621</td>\n",
       "      <td>-0.078767</td>\n",
       "      <td>-0.953689</td>\n",
       "      <td>0.989591</td>\n",
       "      <td>-0.507463</td>\n",
       "      <td>-0.566418</td>\n",
       "      <td>1.635795</td>\n",
       "      <td>-0.566418</td>\n",
       "    </tr>\n",
       "    <tr>\n",
       "      <th>2</th>\n",
       "      <td>-0.797954</td>\n",
       "      <td>0.383307</td>\n",
       "      <td>1.580926</td>\n",
       "      <td>-0.728675</td>\n",
       "      <td>0.989591</td>\n",
       "      <td>-0.507463</td>\n",
       "      <td>-0.566418</td>\n",
       "      <td>1.635795</td>\n",
       "      <td>-0.566418</td>\n",
       "    </tr>\n",
       "    <tr>\n",
       "      <th>3</th>\n",
       "      <td>-0.441948</td>\n",
       "      <td>-1.305531</td>\n",
       "      <td>-0.908614</td>\n",
       "      <td>0.719843</td>\n",
       "      <td>0.989591</td>\n",
       "      <td>-0.507463</td>\n",
       "      <td>1.765481</td>\n",
       "      <td>-0.611324</td>\n",
       "      <td>-0.566418</td>\n",
       "    </tr>\n",
       "    <tr>\n",
       "      <th>4</th>\n",
       "      <td>-0.513149</td>\n",
       "      <td>-0.292556</td>\n",
       "      <td>-0.908614</td>\n",
       "      <td>-0.776802</td>\n",
       "      <td>0.989591</td>\n",
       "      <td>-0.507463</td>\n",
       "      <td>1.765481</td>\n",
       "      <td>-0.611324</td>\n",
       "      <td>-0.566418</td>\n",
       "    </tr>\n",
       "  </tbody>\n",
       "</table>\n",
       "</div>"
      ],
      "text/plain": [
       "        age       bmi  children   charges  sex_male  smoker_yes  \\\n",
       "0 -1.438764 -0.453320 -0.908614  0.298584 -1.010519    1.970587   \n",
       "1 -1.509965  0.509621 -0.078767 -0.953689  0.989591   -0.507463   \n",
       "2 -0.797954  0.383307  1.580926 -0.728675  0.989591   -0.507463   \n",
       "3 -0.441948 -1.305531 -0.908614  0.719843  0.989591   -0.507463   \n",
       "4 -0.513149 -0.292556 -0.908614 -0.776802  0.989591   -0.507463   \n",
       "\n",
       "   region_northwest  region_southeast  region_southwest  \n",
       "0         -0.566418         -0.611324          1.765481  \n",
       "1         -0.566418          1.635795         -0.566418  \n",
       "2         -0.566418          1.635795         -0.566418  \n",
       "3          1.765481         -0.611324         -0.566418  \n",
       "4          1.765481         -0.611324         -0.566418  "
      ]
     },
     "execution_count": 12,
     "metadata": {},
     "output_type": "execute_result"
    }
   ],
   "source": [
    "from sklearn.preprocessing import StandardScaler\n",
    "scaler = StandardScaler()\n",
    "n_df = scaler.fit_transform(df)\n",
    "n_df = pd.DataFrame(n_df,columns=df.columns)\n",
    "n_df.head()"
   ]
  },
  {
   "cell_type": "markdown",
   "id": "526aad75",
   "metadata": {},
   "source": [
    "# Part-2: Working with Models"
   ]
  },
  {
   "cell_type": "markdown",
   "id": "fb381282",
   "metadata": {},
   "source": [
    "### 1 - Seperate Feature data from Target Data"
   ]
  },
  {
   "cell_type": "markdown",
   "id": "b474ff60",
   "metadata": {},
   "source": [
    "Here our target is the price, so we need to seperate them by giving name X and y"
   ]
  },
  {
   "cell_type": "code",
   "execution_count": 13,
   "id": "5b383b23",
   "metadata": {},
   "outputs": [],
   "source": [
    "X = n_df.drop('charges',axis = 1)\n",
    "y = n_df[['charges']]"
   ]
  },
  {
   "cell_type": "markdown",
   "id": "916a8aaa",
   "metadata": {},
   "source": [
    "### 2 - Create a Linear regression model between Features and target data"
   ]
  },
  {
   "cell_type": "code",
   "execution_count": 14,
   "id": "349ebfbb",
   "metadata": {},
   "outputs": [],
   "source": [
    "X_train,X_test,y_train,y_test = tts (X,y,test_size=0.2,random_state=6)"
   ]
  },
  {
   "cell_type": "code",
   "execution_count": 15,
   "id": "375dc7ac",
   "metadata": {},
   "outputs": [
    {
     "data": {
      "text/html": [
       "<div>\n",
       "<style scoped>\n",
       "    .dataframe tbody tr th:only-of-type {\n",
       "        vertical-align: middle;\n",
       "    }\n",
       "\n",
       "    .dataframe tbody tr th {\n",
       "        vertical-align: top;\n",
       "    }\n",
       "\n",
       "    .dataframe thead th {\n",
       "        text-align: right;\n",
       "    }\n",
       "</style>\n",
       "<table border=\"1\" class=\"dataframe\">\n",
       "  <thead>\n",
       "    <tr style=\"text-align: right;\">\n",
       "      <th></th>\n",
       "      <th>age</th>\n",
       "      <th>bmi</th>\n",
       "      <th>children</th>\n",
       "      <th>sex_male</th>\n",
       "      <th>smoker_yes</th>\n",
       "      <th>region_northwest</th>\n",
       "      <th>region_southeast</th>\n",
       "      <th>region_southwest</th>\n",
       "    </tr>\n",
       "  </thead>\n",
       "  <tbody>\n",
       "    <tr>\n",
       "      <th>1182</th>\n",
       "      <td>-1.011557</td>\n",
       "      <td>-0.059613</td>\n",
       "      <td>-0.908614</td>\n",
       "      <td>-1.010519</td>\n",
       "      <td>-0.507463</td>\n",
       "      <td>-0.566418</td>\n",
       "      <td>-0.611324</td>\n",
       "      <td>1.765481</td>\n",
       "    </tr>\n",
       "    <tr>\n",
       "      <th>990</th>\n",
       "      <td>-0.940356</td>\n",
       "      <td>-1.782080</td>\n",
       "      <td>-0.078767</td>\n",
       "      <td>-1.010519</td>\n",
       "      <td>-0.507463</td>\n",
       "      <td>-0.566418</td>\n",
       "      <td>-0.611324</td>\n",
       "      <td>1.765481</td>\n",
       "    </tr>\n",
       "    <tr>\n",
       "      <th>123</th>\n",
       "      <td>0.341265</td>\n",
       "      <td>0.112633</td>\n",
       "      <td>-0.078767</td>\n",
       "      <td>0.989591</td>\n",
       "      <td>1.970587</td>\n",
       "      <td>-0.566418</td>\n",
       "      <td>-0.611324</td>\n",
       "      <td>-0.566418</td>\n",
       "    </tr>\n",
       "    <tr>\n",
       "      <th>184</th>\n",
       "      <td>0.341265</td>\n",
       "      <td>0.004364</td>\n",
       "      <td>0.751079</td>\n",
       "      <td>0.989591</td>\n",
       "      <td>-0.507463</td>\n",
       "      <td>-0.566418</td>\n",
       "      <td>1.635795</td>\n",
       "      <td>-0.566418</td>\n",
       "    </tr>\n",
       "    <tr>\n",
       "      <th>1167</th>\n",
       "      <td>-0.726752</td>\n",
       "      <td>-0.994667</td>\n",
       "      <td>0.751079</td>\n",
       "      <td>-1.010519</td>\n",
       "      <td>-0.507463</td>\n",
       "      <td>-0.566418</td>\n",
       "      <td>-0.611324</td>\n",
       "      <td>1.765481</td>\n",
       "    </tr>\n",
       "    <tr>\n",
       "      <th>...</th>\n",
       "      <td>...</td>\n",
       "      <td>...</td>\n",
       "      <td>...</td>\n",
       "      <td>...</td>\n",
       "      <td>...</td>\n",
       "      <td>...</td>\n",
       "      <td>...</td>\n",
       "      <td>...</td>\n",
       "    </tr>\n",
       "    <tr>\n",
       "      <th>335</th>\n",
       "      <td>1.765289</td>\n",
       "      <td>0.629374</td>\n",
       "      <td>-0.908614</td>\n",
       "      <td>0.989591</td>\n",
       "      <td>-0.507463</td>\n",
       "      <td>-0.566418</td>\n",
       "      <td>-0.611324</td>\n",
       "      <td>1.765481</td>\n",
       "    </tr>\n",
       "    <tr>\n",
       "      <th>618</th>\n",
       "      <td>-1.438764</td>\n",
       "      <td>0.401352</td>\n",
       "      <td>-0.908614</td>\n",
       "      <td>-1.010519</td>\n",
       "      <td>1.970587</td>\n",
       "      <td>-0.566418</td>\n",
       "      <td>1.635795</td>\n",
       "      <td>-0.566418</td>\n",
       "    </tr>\n",
       "    <tr>\n",
       "      <th>227</th>\n",
       "      <td>1.338082</td>\n",
       "      <td>1.844943</td>\n",
       "      <td>-0.908614</td>\n",
       "      <td>-1.010519</td>\n",
       "      <td>-0.507463</td>\n",
       "      <td>-0.566418</td>\n",
       "      <td>1.635795</td>\n",
       "      <td>-0.566418</td>\n",
       "    </tr>\n",
       "    <tr>\n",
       "      <th>713</th>\n",
       "      <td>-1.367563</td>\n",
       "      <td>1.608719</td>\n",
       "      <td>-0.908614</td>\n",
       "      <td>0.989591</td>\n",
       "      <td>-0.507463</td>\n",
       "      <td>-0.566418</td>\n",
       "      <td>-0.611324</td>\n",
       "      <td>-0.566418</td>\n",
       "    </tr>\n",
       "    <tr>\n",
       "      <th>906</th>\n",
       "      <td>-0.869155</td>\n",
       "      <td>0.315228</td>\n",
       "      <td>1.580926</td>\n",
       "      <td>0.989591</td>\n",
       "      <td>-0.507463</td>\n",
       "      <td>-0.566418</td>\n",
       "      <td>-0.611324</td>\n",
       "      <td>-0.566418</td>\n",
       "    </tr>\n",
       "  </tbody>\n",
       "</table>\n",
       "<p>1070 rows × 8 columns</p>\n",
       "</div>"
      ],
      "text/plain": [
       "           age       bmi  children  sex_male  smoker_yes  region_northwest  \\\n",
       "1182 -1.011557 -0.059613 -0.908614 -1.010519   -0.507463         -0.566418   \n",
       "990  -0.940356 -1.782080 -0.078767 -1.010519   -0.507463         -0.566418   \n",
       "123   0.341265  0.112633 -0.078767  0.989591    1.970587         -0.566418   \n",
       "184   0.341265  0.004364  0.751079  0.989591   -0.507463         -0.566418   \n",
       "1167 -0.726752 -0.994667  0.751079 -1.010519   -0.507463         -0.566418   \n",
       "...        ...       ...       ...       ...         ...               ...   \n",
       "335   1.765289  0.629374 -0.908614  0.989591   -0.507463         -0.566418   \n",
       "618  -1.438764  0.401352 -0.908614 -1.010519    1.970587         -0.566418   \n",
       "227   1.338082  1.844943 -0.908614 -1.010519   -0.507463         -0.566418   \n",
       "713  -1.367563  1.608719 -0.908614  0.989591   -0.507463         -0.566418   \n",
       "906  -0.869155  0.315228  1.580926  0.989591   -0.507463         -0.566418   \n",
       "\n",
       "      region_southeast  region_southwest  \n",
       "1182         -0.611324          1.765481  \n",
       "990          -0.611324          1.765481  \n",
       "123          -0.611324         -0.566418  \n",
       "184           1.635795         -0.566418  \n",
       "1167         -0.611324          1.765481  \n",
       "...                ...               ...  \n",
       "335          -0.611324          1.765481  \n",
       "618           1.635795         -0.566418  \n",
       "227           1.635795         -0.566418  \n",
       "713          -0.611324         -0.566418  \n",
       "906          -0.611324         -0.566418  \n",
       "\n",
       "[1070 rows x 8 columns]"
      ]
     },
     "execution_count": 15,
     "metadata": {},
     "output_type": "execute_result"
    }
   ],
   "source": [
    "X_train"
   ]
  },
  {
   "cell_type": "code",
   "execution_count": 16,
   "id": "115b8a17",
   "metadata": {},
   "outputs": [],
   "source": [
    "model = LinearRegression()"
   ]
  },
  {
   "cell_type": "code",
   "execution_count": 17,
   "id": "8ce1eb28",
   "metadata": {},
   "outputs": [
    {
     "data": {
      "text/plain": [
       "LinearRegression()"
      ]
     },
     "execution_count": 17,
     "metadata": {},
     "output_type": "execute_result"
    }
   ],
   "source": [
    "model.fit(X_train,y_train)"
   ]
  },
  {
   "cell_type": "code",
   "execution_count": 18,
   "id": "aecbcb19",
   "metadata": {},
   "outputs": [],
   "source": [
    "pred = model.predict(X_test)"
   ]
  },
  {
   "cell_type": "markdown",
   "id": "396f71b1",
   "metadata": {},
   "source": [
    "### 3 - Displaying the test score and training score"
   ]
  },
  {
   "cell_type": "code",
   "execution_count": 19,
   "id": "343b65d5",
   "metadata": {},
   "outputs": [
    {
     "data": {
      "text/plain": [
       "0.7438161151206177"
      ]
     },
     "execution_count": 19,
     "metadata": {},
     "output_type": "execute_result"
    }
   ],
   "source": [
    "model.score(X_train,y_train)"
   ]
  },
  {
   "cell_type": "code",
   "execution_count": 20,
   "id": "b368b374",
   "metadata": {},
   "outputs": [
    {
     "data": {
      "text/plain": [
       "0.7772568430294238"
      ]
     },
     "execution_count": 20,
     "metadata": {},
     "output_type": "execute_result"
    }
   ],
   "source": [
    "model.score(X_test,y_test)"
   ]
  },
  {
   "cell_type": "markdown",
   "id": "d71e5d7c",
   "metadata": {},
   "source": [
    "### 4 - Extract slope and intercept value from the model"
   ]
  },
  {
   "cell_type": "code",
   "execution_count": 21,
   "id": "6431e08d",
   "metadata": {},
   "outputs": [
    {
     "name": "stdout",
     "output_type": "stream",
     "text": [
      "Slope of the Model is:  [[ 0.30984477  0.17352274  0.04761631 -0.00119545  0.78419135 -0.02102391\n",
      "  -0.05013765 -0.03894886]]\n",
      "Intercept of the Model is:  [0.00866386]\n"
     ]
    }
   ],
   "source": [
    "print(\"Slope of the Model is: \",model.coef_)\n",
    "print(\"Intercept of the Model is: \",model.intercept_)"
   ]
  },
  {
   "cell_type": "markdown",
   "id": "d84c094c",
   "metadata": {},
   "source": [
    "### 5 - Display Mean Squared Error"
   ]
  },
  {
   "cell_type": "code",
   "execution_count": 22,
   "id": "c68eb947",
   "metadata": {},
   "outputs": [
    {
     "name": "stdout",
     "output_type": "stream",
     "text": [
      "Mean Squared Error of the Model is:  0.22056624386362\n"
     ]
    }
   ],
   "source": [
    "mse = mean_squared_error(y_test,pred)\n",
    "print(\"Mean Squared Error of the Model is: \",mse)"
   ]
  },
  {
   "cell_type": "markdown",
   "id": "6328a092",
   "metadata": {},
   "source": [
    "### 6 - Display Mean Absolute Error"
   ]
  },
  {
   "cell_type": "code",
   "execution_count": 23,
   "id": "78a26f17",
   "metadata": {},
   "outputs": [
    {
     "name": "stdout",
     "output_type": "stream",
     "text": [
      "Mean Absolute Error of the Model is:  0.3366198444273029\n"
     ]
    }
   ],
   "source": [
    "mae = mean_absolute_error(y_test,pred)\n",
    "print(\"Mean Absolute Error of the Model is: \",mae)"
   ]
  },
  {
   "cell_type": "markdown",
   "id": "92334589",
   "metadata": {},
   "source": [
    "### 7 - Root Mean Squared Error"
   ]
  },
  {
   "cell_type": "code",
   "execution_count": 24,
   "id": "e5cb1102",
   "metadata": {},
   "outputs": [
    {
     "name": "stdout",
     "output_type": "stream",
     "text": [
      "Root Mean Squared Error of the Model is:  0.4696448060647749\n"
     ]
    }
   ],
   "source": [
    "rmse = np.sqrt(mse)\n",
    "print(\"Root Mean Squared Error of the Model is: \",rmse)"
   ]
  },
  {
   "cell_type": "markdown",
   "id": "7be019df",
   "metadata": {},
   "source": [
    "### 8 - R2 Score"
   ]
  },
  {
   "cell_type": "code",
   "execution_count": 25,
   "id": "b5ab1938",
   "metadata": {},
   "outputs": [
    {
     "name": "stdout",
     "output_type": "stream",
     "text": [
      "R2 Score of the Model is:  0.7772568430294238\n"
     ]
    }
   ],
   "source": [
    "r2 = r2_score(y_test,pred)\n",
    "print(\"R2 Score of the Model is: \", r2)"
   ]
  }
 ],
 "metadata": {
  "kernelspec": {
   "display_name": "Python 3 (ipykernel)",
   "language": "python",
   "name": "python3"
  },
  "language_info": {
   "codemirror_mode": {
    "name": "ipython",
    "version": 3
   },
   "file_extension": ".py",
   "mimetype": "text/x-python",
   "name": "python",
   "nbconvert_exporter": "python",
   "pygments_lexer": "ipython3",
   "version": "3.9.12"
  }
 },
 "nbformat": 4,
 "nbformat_minor": 5
}
